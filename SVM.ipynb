{
 "cells": [
  {
   "cell_type": "markdown",
   "metadata": {},
   "source": [
    "SUPPORT VECTOR MACHINE"
   ]
  },
  {
   "cell_type": "markdown",
   "metadata": {},
   "source": [
    "Loading required libraries"
   ]
  },
  {
   "cell_type": "code",
   "execution_count": 3,
   "metadata": {},
   "outputs": [],
   "source": [
    "import matplotlib.pyplot as plt\n",
    "import pandas as pd\n",
    "from sklearn.model_selection import train_test_split\n",
    "from sklearn import metrics\n",
    "from sklearn import tree\n",
    "from sklearn.naive_bayes import GaussianNB\n",
    "from sklearn.metrics import confusion_matrix\n",
    "from sklearn.naive_bayes import MultinomialNB\n",
    "from sklearn import svm\n",
    "from sklearn.metrics import accuracy_score\n",
    "from sklearn.preprocessing import StandardScaler\n",
    "from sklearn.preprocessing import LabelEncoder, OneHotEncoder\n",
    "from sklearn.model_selection import GridSearchCV\n",
    "\n",
    "\n",
    "\n"
   ]
  },
  {
   "cell_type": "code",
   "execution_count": 4,
   "metadata": {},
   "outputs": [
    {
     "name": "stdout",
     "output_type": "stream",
     "text": [
      "  Private  Apps  Accept  Enroll  Top10perc  Top25perc  F.Undergrad  \\\n",
      "0     Yes  1660    1232     721         23         52         2885   \n",
      "1     Yes  2186    1924     512         16         29         2683   \n",
      "2     Yes  1428    1097     336         22         50         1036   \n",
      "3     Yes   417     349     137         60         89          510   \n",
      "4     Yes   193     146      55         16         44          249   \n",
      "5     Yes   587     479     158         38         62          678   \n",
      "\n",
      "   P.Undergrad  Outstate  Room.Board  Books  Personal  PhD  Terminal  \\\n",
      "0          537      7440        3300    450      2200   70        78   \n",
      "1         1227     12280        6450    750      1500   29        30   \n",
      "2           99     11250        3750    400      1165   53        66   \n",
      "3           63     12960        5450    450       875   92        97   \n",
      "4          869      7560        4120    800      1500   76        72   \n",
      "5           41     13500        3335    500       675   67        73   \n",
      "\n",
      "   S.F.Ratio  perc.alumni  Expend  Grad.Rate  \n",
      "0       18.1           12    7041         60  \n",
      "1       12.2           16   10527         56  \n",
      "2       12.9           30    8735         54  \n",
      "3        7.7           37   19016         59  \n",
      "4       11.9            2   10922         15  \n",
      "5        9.4           11    9727         55  \n"
     ]
    }
   ],
   "source": [
    "base = svm.SVC(kernel='linear', C=1,gamma=1)\n",
    "dataset = pd.read_csv('D:\\datasets\\College.csv')\n",
    "print (dataset.head(6))"
   ]
  },
  {
   "cell_type": "code",
   "execution_count": 5,
   "metadata": {},
   "outputs": [
    {
     "name": "stdout",
     "output_type": "stream",
     "text": [
      "    Private   Apps  Accept  Enroll  Top10perc  Top25perc  F.Undergrad  \\\n",
      "0         1   1660    1232     721         23         52         2885   \n",
      "1         1   2186    1924     512         16         29         2683   \n",
      "2         1   1428    1097     336         22         50         1036   \n",
      "3         1    417     349     137         60         89          510   \n",
      "4         1    193     146      55         16         44          249   \n",
      "5         1    587     479     158         38         62          678   \n",
      "6         1    353     340     103         17         45          416   \n",
      "7         1   1899    1720     489         37         68         1594   \n",
      "8         1   1038     839     227         30         63          973   \n",
      "9         1    582     498     172         21         44          799   \n",
      "10        1   1732    1425     472         37         75         1830   \n",
      "11        1   2652    1900     484         44         77         1707   \n",
      "12        1   1179     780     290         38         64         1130   \n",
      "13        1   1267    1080     385         44         73         1306   \n",
      "14        1    494     313     157         23         46         1317   \n",
      "15        1   1420    1093     220          9         22         1018   \n",
      "16        1   4302     992     418         83         96         1593   \n",
      "17        1   1216     908     423         19         40         1819   \n",
      "18        1   1130     704     322         14         23         1586   \n",
      "19        0   3540    2001    1016         24         54         4190   \n",
      "20        1    713     661     252         25         44          712   \n",
      "21        0   7313    4664    1910         20         63         9940   \n",
      "22        1    619     516     219         20         51         1251   \n",
      "23        0  12809   10308    3761         24         49        22593   \n",
      "24        1    708     334     166         46         74          530   \n",
      "\n",
      "    P.Undergrad  Outstate  Room.Board  Books  Personal  PhD  Terminal  \\\n",
      "0           537      7440        3300    450      2200   70        78   \n",
      "1          1227     12280        6450    750      1500   29        30   \n",
      "2            99     11250        3750    400      1165   53        66   \n",
      "3            63     12960        5450    450       875   92        97   \n",
      "4           869      7560        4120    800      1500   76        72   \n",
      "5            41     13500        3335    500       675   67        73   \n",
      "6           230     13290        5720    500      1500   90        93   \n",
      "7            32     13868        4826    450       850   89       100   \n",
      "8           306     15595        4400    300       500   79        84   \n",
      "9            78     10468        3380    660      1800   40        41   \n",
      "10          110     16548        5406    500       600   82        88   \n",
      "11           44     17080        4440    400       600   73        91   \n",
      "12          638      9690        4785    600      1000   60        84   \n",
      "13           28     12572        4552    400       400   79        87   \n",
      "14         1235      8352        3640    650      2449   36        69   \n",
      "15          287      8700        4780    450      1400   78        84   \n",
      "16            5     19760        5300    660      1598   93        98   \n",
      "17          281     10100        3520    550      1100   48        61   \n",
      "18          326      9996        3090    900      1320   62        66   \n",
      "19         1512      5130        3592    500      2000   60        62   \n",
      "20           23     15476        3336    400      1100   69        82   \n",
      "21         1035      6806        2540     96      2000   83        96   \n",
      "22          767     11208        4124    350      1615   55        65   \n",
      "23         7585      7434        4850    700      2100   88        93   \n",
      "24          182      8644        3922    500       800   79        88   \n",
      "\n",
      "    S.F.Ratio  perc.alumni  Expend  Grad.Rate  \n",
      "0        18.1           12    7041         60  \n",
      "1        12.2           16   10527         56  \n",
      "2        12.9           30    8735         54  \n",
      "3         7.7           37   19016         59  \n",
      "4        11.9            2   10922         15  \n",
      "5         9.4           11    9727         55  \n",
      "6        11.5           26    8861         63  \n",
      "7        13.7           37   11487         73  \n",
      "8        11.3           23   11644         80  \n",
      "9        11.5           15    8991         52  \n",
      "10       11.3           31   10932         73  \n",
      "11        9.9           41   11711         76  \n",
      "12       13.3           21    7940         74  \n",
      "13       15.3           32    9305         68  \n",
      "14       11.1           26    8127         55  \n",
      "15       14.7           19    7355         69  \n",
      "16        8.4           63   21424        100  \n",
      "17       12.1           14    7994         59  \n",
      "18       11.5           18   10908         46  \n",
      "19       23.1            5    4010         34  \n",
      "20       11.3           35   42926         48  \n",
      "21       18.3           14    5854         70  \n",
      "22       12.7           25    6584         65  \n",
      "23       18.9            5    4602         48  \n",
      "24       12.6           24   14579         54  \n",
      "   Apps  Accept  Enroll  Top10perc  Top25perc  F.Undergrad  P.Undergrad  \\\n",
      "0  1660    1232     721         23         52         2885          537   \n",
      "1  2186    1924     512         16         29         2683         1227   \n",
      "\n",
      "   Outstate  Room.Board  Books  Personal  PhD  Terminal  S.F.Ratio  \\\n",
      "0      7440        3300    450      2200   70        78       18.1   \n",
      "1     12280        6450    750      1500   29        30       12.2   \n",
      "\n",
      "   perc.alumni  Expend  Grad.Rate  \n",
      "0           12    7041         60  \n",
      "1           16   10527         56  \n",
      "(621, 18)\n",
      "(156, 18)\n"
     ]
    }
   ],
   "source": [
    "dataset.Private = pd.Categorical(dataset.Private)\n",
    "dataset['Private']=dataset.Private.cat.codes\n",
    "print(dataset.head(25))\n",
    "\n",
    "pd_columns=dataset.iloc[:,1:18]\n",
    "print(pd_columns.head(2))\n",
    "\n",
    "trainset,testset = train_test_split(dataset,test_size=0.2)\n",
    "print(trainset.shape)\n",
    "print(testset.shape)"
   ]
  },
  {
   "cell_type": "code",
   "execution_count": 6,
   "metadata": {},
   "outputs": [
    {
     "name": "stdout",
     "output_type": "stream",
     "text": [
      "['Private', 'Apps', 'Accept', 'Enroll', 'Top10perc', 'Top25perc', 'F.Undergrad', 'P.Undergrad', 'Outstate', 'Room.Board', 'Books', 'Personal', 'PhD', 'Terminal', 'S.F.Ratio', 'perc.alumni', 'Expend', 'Grad.Rate']\n"
     ]
    }
   ],
   "source": [
    "prediction = pd_columns.columns\n",
    "\n",
    "train_x= trainset[prediction]\n",
    "train_y= trainset['Private']\n",
    "print(list(trainset.columns))"
   ]
  },
  {
   "cell_type": "code",
   "execution_count": 7,
   "metadata": {},
   "outputs": [
    {
     "name": "stdout",
     "output_type": "stream",
     "text": [
      "SVM accuracy: 0.9551282051282052\n"
     ]
    }
   ],
   "source": [
    "test_x = testset[prediction]\n",
    "test_y = testset['Private']\n",
    "\n",
    "\n",
    "base = svm.SVC(kernel='linear')\n",
    "base.fit(train_x,train_y)\n",
    "prediction=base.predict(test_x)\n",
    "print(\"SVM accuracy:\",accuracy_score(test_y,prediction))\n"
   ]
  },
  {
   "cell_type": "code",
   "execution_count": 9,
   "metadata": {},
   "outputs": [
    {
     "name": "stdout",
     "output_type": "stream",
     "text": [
      "SVM accuracy: 0.9294871794871795\n"
     ]
    },
    {
     "name": "stderr",
     "output_type": "stream",
     "text": [
      "C:\\Users\\28jis\\Anaconda3\\lib\\site-packages\\sklearn\\preprocessing\\data.py:645: DataConversionWarning: Data with input dtype int64, float64 were all converted to float64 by StandardScaler.\n",
      "  return self.partial_fit(X, y)\n",
      "C:\\Users\\28jis\\Anaconda3\\lib\\site-packages\\sklearn\\base.py:464: DataConversionWarning: Data with input dtype int64, float64 were all converted to float64 by StandardScaler.\n",
      "  return self.fit(X, **fit_params).transform(X)\n",
      "C:\\Users\\28jis\\Anaconda3\\lib\\site-packages\\sklearn\\preprocessing\\data.py:645: DataConversionWarning: Data with input dtype int64, float64 were all converted to float64 by StandardScaler.\n",
      "  return self.partial_fit(X, y)\n",
      "C:\\Users\\28jis\\Anaconda3\\lib\\site-packages\\sklearn\\base.py:464: DataConversionWarning: Data with input dtype int64, float64 were all converted to float64 by StandardScaler.\n",
      "  return self.fit(X, **fit_params).transform(X)\n"
     ]
    }
   ],
   "source": [
    "sc = StandardScaler()\n",
    "X_train = sc.fit_transform(train_x)\n",
    "    \n",
    "X_test = sc.fit_transform(test_x)\n",
    "\n",
    "base = svm.SVC(kernel='linear')\n",
    "base.fit(X_train,train_y)\n",
    "prediction=base.predict(X_test)\n",
    "print(\"SVM accuracy:\",accuracy_score(test_y,prediction))\n"
   ]
  },
  {
   "cell_type": "code",
   "execution_count": 10,
   "metadata": {},
   "outputs": [],
   "source": [
    "def svc_param_selection(X, y, nfolds):\n",
    "    Css = [0.001, 0.01, 0.1, 1, 10]\n",
    "    gammas = [0.001, 0.01, 0.1, 1]\n",
    "    param_grid = {'C': Css, 'gamma' : gammas}\n",
    "    gd_search = GridSearchCV(svm.SVC(kernel='rbf'), param_grid, cv=nfolds) #using rbf as kernel as non-linear SVM was required in question\n",
    "    gd_search.fit(X, y)\n",
    "    gd_search.best_params_\n",
    "    print(gd_search.best_params_)"
   ]
  },
  {
   "cell_type": "code",
   "execution_count": 11,
   "metadata": {},
   "outputs": [
    {
     "name": "stdout",
     "output_type": "stream",
     "text": [
      "{'C': 0.001, 'gamma': 0.001}\n",
      "Accuracy score with the best hyper-parameters(for a non-linear SVM):  0.7115384615384616\n"
     ]
    }
   ],
   "source": [
    "svc_param_selection(train_x,train_y,5)\n",
    "\n",
    "base2 = svm.SVC(C=0.001,gamma=0.001,kernel='rbf')\n",
    "base2.fit(train_x,train_y)\n",
    "prediction3 = base2.predict(test_x)\n",
    "\n",
    "accuracy3 = metrics.accuracy_score(prediction3, test_y)\n",
    "print(\"Accuracy score with the best hyper-parameters(for a non-linear SVM): \", str(accuracy3))"
   ]
  },
  {
   "cell_type": "code",
   "execution_count": null,
   "metadata": {},
   "outputs": [],
   "source": []
  }
 ],
 "metadata": {
  "kernelspec": {
   "display_name": "Python 3",
   "language": "python",
   "name": "python3"
  },
  "language_info": {
   "codemirror_mode": {
    "name": "ipython",
    "version": 3
   },
   "file_extension": ".py",
   "mimetype": "text/x-python",
   "name": "python",
   "nbconvert_exporter": "python",
   "pygments_lexer": "ipython3",
   "version": "3.7.3"
  }
 },
 "nbformat": 4,
 "nbformat_minor": 2
}
